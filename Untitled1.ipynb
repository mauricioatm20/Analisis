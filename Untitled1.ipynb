{
 "cells": [
  {
   "cell_type": "code",
   "execution_count": null,
   "id": "553f12bf-477d-4fc0-9522-7cc513e497e4",
   "metadata": {
    "ExecuteTime": {
     "end_time": "2024-03-21T10:00:18.811800Z",
     "start_time": "2024-03-21T10:00:16.900599Z"
    }
   },
   "outputs": [],
   "source": [
    "import matplotlib.pyplot as plt\n",
    "\n",
    "plt.plot([6, 2, 3, 8])\n",
    "plt.ylabel('some numbers')\n",
    "plt.show()"
   ]
  },
  {
   "cell_type": "code",
   "execution_count": null,
   "id": "732de8a6-559f-430d-b3ac-5cad9f398519",
   "metadata": {
    "ExecuteTime": {
     "end_time": "2024-03-20T12:51:01.534407Z",
     "start_time": "2024-03-20T12:51:01.470101Z"
    }
   },
   "outputs": [],
   "source": [
    "plt.plot([1, 2, 3, 4], [1, 4, 9, 16], 'ro')\n",
    "plt.axis((0, 6, 0, 20))\n",
    "plt.show()"
   ]
  },
  {
   "cell_type": "code",
   "execution_count": null,
   "id": "5abb8624ab225127",
   "metadata": {
    "ExecuteTime": {
     "end_time": "2024-03-21T10:00:27.764688Z",
     "start_time": "2024-03-21T10:00:27.696638Z"
    },
    "collapsed": false,
    "jupyter": {
     "outputs_hidden": false
    }
   },
   "outputs": [],
   "source": [
    "import numpy as np\n",
    "\n",
    "t = np.arange(0., 8., 0.2)\n",
    "\n",
    "plt.plot(t, t, 'r--', t, t**2, 'bs', t, t**3, 'g^')\n",
    "plt.show()"
   ]
  },
  {
   "cell_type": "code",
   "execution_count": null,
   "id": "fd80d286f68ccc04",
   "metadata": {
    "ExecuteTime": {
     "end_time": "2024-03-21T10:00:31.900562Z",
     "start_time": "2024-03-21T10:00:31.795336Z"
    },
    "collapsed": false,
    "jupyter": {
     "outputs_hidden": false
    }
   },
   "outputs": [],
   "source": [
    "def f(t):\n",
    "    return np.exp(-t) * np.cos(2*np.pi*t)\n",
    "\n",
    "t1 = np.arange(0.0, 5.0, 0.1)\n",
    "t2 = np.arange(0.0, 5.0, 0.02)\n",
    "\n",
    "plt.figure()\n",
    "plt.subplot(211)\n",
    "plt.plot(t1, f(t1), 'bo', t2, f(t2), 'k')\n",
    "\n",
    "plt.subplot(212)\n",
    "plt.plot(t2, np.cos(2*np.pi*t2), 'r--')\n",
    "plt.show()"
   ]
  },
  {
   "cell_type": "code",
   "execution_count": null,
   "id": "33cc2585c74a3879",
   "metadata": {
    "ExecuteTime": {
     "end_time": "2024-03-21T10:01:06.798370Z",
     "start_time": "2024-03-21T10:01:06.553907Z"
    },
    "collapsed": false,
    "jupyter": {
     "outputs_hidden": false
    }
   },
   "outputs": [],
   "source": [
    "import matplotlib.pyplot as plt\n",
    "plt.figure(1)                # primera figura\n",
    "plt.subplot(211)             # primera figura  subplot en la primera figura\n",
    "plt.plot([1, 2, 3])\n",
    "plt.subplot(212)             # segunda subplot en la primera figura \n",
    "plt.plot([4, 5, 6])\n",
    "\n",
    "\n",
    "plt.figure(2)                # una segunda figura\n",
    "plt.plot([4, 5, 6])          # crea una subplot() por defecto\n",
    "\n",
    "plt.figure(1)                # first figure current;\n",
    "                             # subplot(212) still current\n",
    "plt.subplot(211)             # make subplot(211) in the first figure\n",
    "                             # current\n",
    "plt.title('Easy as 1, 2, 3') # subplot 211 title"
   ]
  },
  {
   "cell_type": "code",
   "execution_count": null,
   "id": "a481944601636c76",
   "metadata": {
    "collapsed": false,
    "jupyter": {
     "outputs_hidden": false
    }
   },
   "outputs": [],
   "source": []
  },
  {
   "cell_type": "code",
   "execution_count": null,
   "id": "2349a5b5efa117af",
   "metadata": {
    "ExecuteTime": {
     "end_time": "2024-04-01T07:18:44.468057Z",
     "start_time": "2024-04-01T07:18:44.465587Z"
    },
    "collapsed": false,
    "jupyter": {
     "outputs_hidden": false
    }
   },
   "outputs": [],
   "source": []
  },
  {
   "cell_type": "code",
   "execution_count": null,
   "id": "8bf76cb596aa3c96",
   "metadata": {
    "collapsed": false,
    "jupyter": {
     "outputs_hidden": false
    }
   },
   "outputs": [],
   "source": []
  }
 ],
 "metadata": {
  "kernelspec": {
   "display_name": "Python 3 (ipykernel)",
   "language": "python",
   "name": "python3"
  },
  "language_info": {
   "codemirror_mode": {
    "name": "ipython",
    "version": 3
   },
   "file_extension": ".py",
   "mimetype": "text/x-python",
   "name": "python",
   "nbconvert_exporter": "python",
   "pygments_lexer": "ipython3",
   "version": "3.12.2"
  }
 },
 "nbformat": 4,
 "nbformat_minor": 5
}
